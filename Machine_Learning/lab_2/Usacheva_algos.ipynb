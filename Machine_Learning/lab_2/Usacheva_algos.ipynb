{
  "nbformat": 4,
  "nbformat_minor": 0,
  "metadata": {
    "kernelspec": {
      "display_name": "Python 3",
      "language": "python",
      "name": "python3"
    },
    "language_info": {
      "codemirror_mode": {
        "name": "ipython",
        "version": 3
      },
      "file_extension": ".py",
      "mimetype": "text/x-python",
      "name": "python",
      "nbconvert_exporter": "python",
      "pygments_lexer": "ipython3",
      "version": "3.8.2"
    },
    "colab": {
      "name": "algos.ipynb",
      "provenance": [],
      "collapsed_sections": [],
      "toc_visible": true
    },
    "accelerator": "GPU"
  },
  "cells": [
    {
      "cell_type": "markdown",
      "metadata": {
        "id": "0r4FQqr2EYfX",
        "colab_type": "text"
      },
      "source": [
        "# <center>Лабораторная работа №2<center>"
      ]
    },
    {
      "cell_type": "markdown",
      "metadata": {
        "id": "7Tlq2U2FEYfZ",
        "colab_type": "text"
      },
      "source": [
        "Выполнила студентка группы 8О-307Б \\\n",
        "Усачева Елизавета"
      ]
    },
    {
      "cell_type": "markdown",
      "metadata": {
        "id": "OObrzhSkEYfa",
        "colab_type": "text"
      },
      "source": [
        "## Задание"
      ]
    },
    {
      "cell_type": "markdown",
      "metadata": {
        "id": "y21lLTxnEYfb",
        "colab_type": "text"
      },
      "source": [
        "Необходимо реализовать алгоритмы машинного обучения:\n",
        "* ЛОГИСТИЧЕСКАЯ РЕГРЕССИЯ\n",
        "* KNN\n",
        "* SVM\n",
        "* ДЕРЕВО РЕШЕНИЙ\n",
        "* RANDOM FOREST\n",
        "\n",
        "Применить данные алгоритмы на наборы данных, подготовленных в первой лабораторной работе. \\\n",
        "Провести анализ полученных моделей, вычислить метрики классификатора. \\\n",
        "Произвести тюнинг параметров в случае необходимости. \\\n",
        "Сравнить полученные результаты с моделями, реализованными в scikit-learn. \\\n",
        "Аналогично построить метрики классификации. \\\n",
        "Показать, что полученные модели не переобучились. \\\n",
        "Также необходимо сделать выводы о применимости данных моделей к вашей задаче."
      ]
    },
    {
      "cell_type": "markdown",
      "metadata": {
        "id": "UKJ35SQ6EYfc",
        "colab_type": "text"
      },
      "source": [
        "## Подготовка данных"
      ]
    },
    {
      "cell_type": "markdown",
      "metadata": {
        "id": "qcVUt9DBEYfd",
        "colab_type": "text"
      },
      "source": [
        "Тестовая и тренировочная выборки были подготовлены в Лабораторной работе №1 (первый датасет)."
      ]
    },
    {
      "cell_type": "code",
      "metadata": {
        "id": "1IOnjbESEYfe",
        "colab_type": "code",
        "colab": {}
      },
      "source": [
        "%matplotlib inline\n",
        "import pandas as pd\n",
        "import numpy as np\n",
        "import matplotlib.pyplot as plt\n",
        "from sklearn.preprocessing import StandardScaler \n",
        "from sklearn.preprocessing import MinMaxScaler\n",
        "from sklearn.linear_model import LogisticRegression\n",
        "from sklearn.model_selection import train_test_split\n",
        "from sklearn.metrics import precision_score\n",
        "from sklearn.neighbors import KNeighborsClassifier\n",
        "from sklearn import tree\n",
        "from sklearn.ensemble import RandomForestClassifier"
      ],
      "execution_count": 63,
      "outputs": []
    },
    {
      "cell_type": "markdown",
      "metadata": {
        "id": "8XzBUrRbEYfk",
        "colab_type": "text"
      },
      "source": [
        "Импортируем данные:"
      ]
    },
    {
      "cell_type": "code",
      "metadata": {
        "id": "Z908AMFmEYfl",
        "colab_type": "code",
        "colab": {}
      },
      "source": [
        "data_train = pd.read_csv(\"data/data_train1.csv\")\n",
        "data_test = pd.read_csv(\"data/data_test1.csv\")"
      ],
      "execution_count": 64,
      "outputs": []
    },
    {
      "cell_type": "code",
      "metadata": {
        "id": "AjseXgZ9EYfn",
        "colab_type": "code",
        "colab": {}
      },
      "source": [
        "data_train.drop(['Unnamed: 0'], axis = 1, inplace = True)\n",
        "data_test.drop(['Unnamed: 0'], axis = 1, inplace = True)"
      ],
      "execution_count": 65,
      "outputs": []
    },
    {
      "cell_type": "markdown",
      "metadata": {
        "id": "r6LrnnYJEYfr",
        "colab_type": "text"
      },
      "source": [
        "Перед обучением выделим целевую переменную и нормализуем данные."
      ]
    },
    {
      "cell_type": "code",
      "metadata": {
        "id": "upERpMoNEYfs",
        "colab_type": "code",
        "colab": {}
      },
      "source": [
        "y_train = data_train['Purchased'].to_numpy()\n",
        "y_test = data_test['Purchased'].to_numpy()\n",
        "\n",
        "x_train = data_train.drop('Purchased', axis=1)\n",
        "x_test = data_test.drop('Purchased', axis=1)"
      ],
      "execution_count": 66,
      "outputs": []
    },
    {
      "cell_type": "code",
      "metadata": {
        "id": "isDRyve7EYfv",
        "colab_type": "code",
        "colab": {}
      },
      "source": [
        "scale_features_std = MinMaxScaler()\n",
        "\n",
        "x_train = scale_features_std.fit_transform(x_train.to_numpy()) \n",
        "x_test = scale_features_std.transform(x_test.to_numpy())"
      ],
      "execution_count": 67,
      "outputs": []
    },
    {
      "cell_type": "markdown",
      "metadata": {
        "id": "BCxAfybBEYfz",
        "colab_type": "text"
      },
      "source": [
        "## Модели"
      ]
    },
    {
      "cell_type": "markdown",
      "metadata": {
        "id": "8iHwP8-vEYfz",
        "colab_type": "text"
      },
      "source": [
        "### Логистическая регрессия"
      ]
    },
    {
      "cell_type": "markdown",
      "metadata": {
        "id": "EC5UhcQ2EYf0",
        "colab_type": "text"
      },
      "source": [
        "Логистическая регрессия или логит-модель (англ. logit model) — это статистическая модель, используемая для прогнозирования вероятности возникновения некоторого события путём его сравнения с логистической кривой. Эта регреcсия выдаёт ответ в виде вероятности бинарного события (1 или 0).\n",
        "\n",
        "* Логистическая регрессия — одно из статистических методов классификации с использованием линейного дискриминанта Фишера.\n",
        "* Значением функции является вероятность того, что данное исходное значение принадлежит к определенному классу.\n",
        "* Механизм обучения логистической регрессии старается максимизировать среднее значение g(x)."
      ]
    },
    {
      "cell_type": "markdown",
      "metadata": {
        "id": "OlCAPVLDFk_U",
        "colab_type": "text"
      },
      "source": [
        "#### Реализация"
      ]
    },
    {
      "cell_type": "markdown",
      "metadata": {
        "id": "p4ZACDoSGmtq",
        "colab_type": "text"
      },
      "source": [
        "В качестве оптимизатора используется метод градиентного супска с постоянным шагом, в качестве метрики в этом и последующих методах выступает precision."
      ]
    },
    {
      "cell_type": "code",
      "metadata": {
        "id": "NkyBz7QXEYf1",
        "colab_type": "code",
        "colab": {}
      },
      "source": [
        "def logistic_func(beta, X):\n",
        "    return 1.0/(1 + np.exp(-np.dot(X, beta.T))) \n",
        "\n",
        "def log_gradient(beta, X, y):\n",
        "    first_calc = logistic_func(beta, X) - y.reshape(X.shape[0], -1) \n",
        "    final_calc = np.dot(first_calc.T, X) \n",
        "    return final_calc \n",
        "\n",
        "def cost_func(beta, X, y): \n",
        "    log_func_v = logistic_func(beta, X) \n",
        "    y = np.squeeze(y) \n",
        "    step1 = y * np.log(log_func_v) \n",
        "    step2 = (1 - y) * np.log(1 - log_func_v) \n",
        "    final = -step1 - step2 \n",
        "    return np.mean(final) \n",
        "\n",
        "def grad_desc(X, y, beta, lr=.01, converge_change=.001): \n",
        "    cost = cost_func(beta, X, y) \n",
        "    change_cost = 1\n",
        "    while(change_cost > converge_change): \n",
        "        old_cost = cost \n",
        "        beta = beta - (lr * log_gradient(beta, X, y)) \n",
        "        cost = cost_func(beta, X, y) \n",
        "        change_cost = old_cost - cost\n",
        "    return beta\n",
        "\n",
        "def pred_values(beta, X): \n",
        "    pred_prob = logistic_func(beta, X) \n",
        "    pred_value = np.where(pred_prob >= .5, 1, 0) \n",
        "    return np.squeeze(pred_value)"
      ],
      "execution_count": 68,
      "outputs": []
    },
    {
      "cell_type": "markdown",
      "metadata": {
        "id": "6iYGQXjxFsmz",
        "colab_type": "text"
      },
      "source": [
        "#### Реализация из scikit-learn"
      ]
    },
    {
      "cell_type": "code",
      "metadata": {
        "id": "6E5jmCp1F-0g",
        "colab_type": "code",
        "colab": {
          "base_uri": "https://localhost:8080/",
          "height": 102
        },
        "outputId": "f8ac508c-dfdc-4557-f0ab-4b6fbe2a7f91"
      },
      "source": [
        "log_reg = LogisticRegression()\n",
        "log_reg.fit(x_train, y_train)"
      ],
      "execution_count": 69,
      "outputs": [
        {
          "output_type": "execute_result",
          "data": {
            "text/plain": [
              "LogisticRegression(C=1.0, class_weight=None, dual=False, fit_intercept=True,\n",
              "                   intercept_scaling=1, l1_ratio=None, max_iter=100,\n",
              "                   multi_class='auto', n_jobs=None, penalty='l2',\n",
              "                   random_state=None, solver='lbfgs', tol=0.0001, verbose=0,\n",
              "                   warm_start=False)"
            ]
          },
          "metadata": {
            "tags": []
          },
          "execution_count": 69
        }
      ]
    },
    {
      "cell_type": "markdown",
      "metadata": {
        "id": "dLQeROVeGSQn",
        "colab_type": "text"
      },
      "source": [
        "#### Результаты работы"
      ]
    },
    {
      "cell_type": "markdown",
      "metadata": {
        "id": "CSFRwzo_GVeW",
        "colab_type": "text"
      },
      "source": [
        "Реализация:"
      ]
    },
    {
      "cell_type": "code",
      "metadata": {
        "id": "BImyipIgHQsj",
        "colab_type": "code",
        "colab": {
          "base_uri": "https://localhost:8080/",
          "height": 51
        },
        "outputId": "520f3d9c-845d-4d76-9c2f-8a62ee0e4eaa"
      },
      "source": [
        "beta = np.matrix(np.zeros(x_train.shape[1]))\n",
        "beta = grad_desc(x_train, y_train, beta)\n",
        "\n",
        "print(\"train precision: \" + str(precision_score(y_train, pred_values(beta, x_train), average='weighted')))\n",
        "print(\"test precision: \" + str(precision_score(y_test, pred_values(beta, x_test), average='weighted')))"
      ],
      "execution_count": 70,
      "outputs": [
        {
          "output_type": "stream",
          "text": [
            "train precision: 0.5708525458168887\n",
            "test precision: 0.5160881801125704\n"
          ],
          "name": "stdout"
        }
      ]
    },
    {
      "cell_type": "markdown",
      "metadata": {
        "id": "V1BSCjbhOqze",
        "colab_type": "text"
      },
      "source": [
        "Реализация из scikit-learn:"
      ]
    },
    {
      "cell_type": "code",
      "metadata": {
        "id": "HyoC_iWbOvLd",
        "colab_type": "code",
        "colab": {
          "base_uri": "https://localhost:8080/",
          "height": 51
        },
        "outputId": "264c4a5d-3833-41cb-c9cc-50c78583873e"
      },
      "source": [
        "print(\"train precision: \" + str(precision_score(y_train, log_reg.predict(x_train), average='weighted')))\n",
        "print(\"test precision: \" + str(precision_score(y_test, log_reg.predict(x_test), average='weighted')))"
      ],
      "execution_count": 71,
      "outputs": [
        {
          "output_type": "stream",
          "text": [
            "train precision: 0.842041015625\n",
            "test precision: 0.8358490566037735\n"
          ],
          "name": "stdout"
        }
      ]
    },
    {
      "cell_type": "markdown",
      "metadata": {
        "id": "SAP9ZjUyPG4K",
        "colab_type": "text"
      },
      "source": [
        "Метрика моей реализации реализации оказалась очень плохой. К тому же, результат на тренировочных данных оказался лучше, чем на тестовых, что может указывать на переобучение.\n",
        "\n",
        "На реализации из scikit-learn метрика показала вполне приемлимые результаты, но тут так же присутсвует подозрение на переобучение.\n"
      ]
    },
    {
      "cell_type": "markdown",
      "metadata": {
        "id": "kApsOWGqQCjg",
        "colab_type": "text"
      },
      "source": [
        "### KNN"
      ]
    },
    {
      "cell_type": "markdown",
      "metadata": {
        "id": "axMLM8GyQFem",
        "colab_type": "text"
      },
      "source": [
        "Метод k-ближайших соседей используется для решения задачи классификации. Он относит объекты к классу, которому принадлежит большинство из k его ближайших соседей в многомерном пространстве признаков."
      ]
    },
    {
      "cell_type": "markdown",
      "metadata": {
        "id": "NheqBVGwReXm",
        "colab_type": "text"
      },
      "source": [
        "#### Реализация"
      ]
    },
    {
      "cell_type": "code",
      "metadata": {
        "id": "su_e8wLsRgsg",
        "colab_type": "code",
        "colab": {}
      },
      "source": [
        "def SquareEuclidDistance(a,b):\n",
        "    d = 0\n",
        "    for i in range(a.shape[0]):\n",
        "        d += (a[i] - b[i]) * (a[i] - b[i])\n",
        "    return d\n",
        "\n",
        "def KNN(X_train, Y_train, X_test):\n",
        "    Y_test = np.ones(X_test.shape[0])\n",
        "    for j in range(X_test.shape[0]):\n",
        "        Q = np.zeros(Y_train.max() + 1)\n",
        "        for i in range(X_train.shape[0]):\n",
        "            Q[Y_train[i]] += 1/SquareEuclidDistance(X_test[j,:], X_train[i,:])\n",
        "        Y_test[j] = np.argmax(Q)\n",
        "    return Y_test"
      ],
      "execution_count": 72,
      "outputs": []
    },
    {
      "cell_type": "markdown",
      "metadata": {
        "id": "ZuLST69xRjt-",
        "colab_type": "text"
      },
      "source": [
        "#### Реализация из scikit-learn"
      ]
    },
    {
      "cell_type": "code",
      "metadata": {
        "id": "-e5GL8rQRu7t",
        "colab_type": "code",
        "colab": {
          "base_uri": "https://localhost:8080/",
          "height": 68
        },
        "outputId": "3690e7e5-752f-4674-d6d7-8e7c0fec97ed"
      },
      "source": [
        "knn = KNeighborsClassifier()\n",
        "knn.fit(x_train, y_train)"
      ],
      "execution_count": 73,
      "outputs": [
        {
          "output_type": "execute_result",
          "data": {
            "text/plain": [
              "KNeighborsClassifier(algorithm='auto', leaf_size=30, metric='minkowski',\n",
              "                     metric_params=None, n_jobs=None, n_neighbors=5, p=2,\n",
              "                     weights='uniform')"
            ]
          },
          "metadata": {
            "tags": []
          },
          "execution_count": 73
        }
      ]
    },
    {
      "cell_type": "markdown",
      "metadata": {
        "id": "7sujD7CyR8Ue",
        "colab_type": "text"
      },
      "source": [
        "#### Результаты работы"
      ]
    },
    {
      "cell_type": "markdown",
      "metadata": {
        "id": "1bA2P398R_T9",
        "colab_type": "text"
      },
      "source": [
        "Реализация:"
      ]
    },
    {
      "cell_type": "code",
      "metadata": {
        "id": "IrF8gR1JSB4O",
        "colab_type": "code",
        "colab": {
          "base_uri": "https://localhost:8080/",
          "height": 105
        },
        "outputId": "ddd1a464-57be-4859-9bd3-d6756a5011fd"
      },
      "source": [
        "print(\"train precision: \" + str(precision_score(y_test, KNN(x_test, y_test, x_test), average='weighted')))\n",
        "print(\"test precision: \" + str(precision_score(y_test, KNN(x_train, y_train, x_test), average='weighted')))"
      ],
      "execution_count": 74,
      "outputs": [
        {
          "output_type": "stream",
          "text": [
            "train precision: 1.0\n",
            "test precision: 0.8687148217636022\n"
          ],
          "name": "stdout"
        },
        {
          "output_type": "stream",
          "text": [
            "/usr/local/lib/python3.6/dist-packages/ipykernel_launcher.py:12: RuntimeWarning: divide by zero encountered in double_scalars\n",
            "  if sys.path[0] == '':\n"
          ],
          "name": "stderr"
        }
      ]
    },
    {
      "cell_type": "markdown",
      "metadata": {
        "id": "ui_hDYYfSrP6",
        "colab_type": "text"
      },
      "source": [
        "Реализация из scikit-learn:"
      ]
    },
    {
      "cell_type": "code",
      "metadata": {
        "id": "VGOfyEOISv3D",
        "colab_type": "code",
        "colab": {
          "base_uri": "https://localhost:8080/",
          "height": 51
        },
        "outputId": "4f605dc0-f53f-4908-f866-42213c023fbc"
      },
      "source": [
        "print(\"train precision: \" + str(precision_score(y_train, knn.predict(x_train), average='weighted')))\n",
        "print(\"test precision: \" + str(precision_score(y_test, knn.predict(x_test), average='weighted')))"
      ],
      "execution_count": 75,
      "outputs": [
        {
          "output_type": "stream",
          "text": [
            "train precision: 0.9112725948869678\n",
            "test precision: 0.929513888888889\n"
          ],
          "name": "stdout"
        }
      ]
    },
    {
      "cell_type": "markdown",
      "metadata": {
        "id": "zu__Ju1QS6lI",
        "colab_type": "text"
      },
      "source": [
        "Точно можно сказать, что данный метод сработал лучше чем предыдущий. Однако, здесь так же видно, что в обоих реализациях модель переобучилась. На тестовой выборке реализация из scikit-learn показала более высокую точность."
      ]
    },
    {
      "cell_type": "markdown",
      "metadata": {
        "id": "Nb6jOiZ7UsdY",
        "colab_type": "text"
      },
      "source": [
        "### Дерево решений"
      ]
    },
    {
      "cell_type": "markdown",
      "metadata": {
        "id": "FeM8TNeKTtw9",
        "colab_type": "text"
      },
      "source": [
        "Дерево решений — алгоритм классификации, задающийся деревом (связным ациклическим графом)."
      ]
    },
    {
      "cell_type": "markdown",
      "metadata": {
        "id": "HhjWkmRwUtr_",
        "colab_type": "text"
      },
      "source": [
        "#### Реализация"
      ]
    },
    {
      "cell_type": "code",
      "metadata": {
        "id": "EPAbPMwTUxYp",
        "colab_type": "code",
        "colab": {}
      },
      "source": [
        "class Node:\n",
        "    def __init__(self, predicted_class):\n",
        "        self.predicted_class = predicted_class\n",
        "        self.feature_index = 0\n",
        "        self.threshold = 0\n",
        "        self.left = None\n",
        "        self.right = None\n",
        "\n",
        "\n",
        "class DecisionTreeClassifier:\n",
        "    def __init__(self, max_depth=None):\n",
        "        self.max_depth = max_depth\n",
        "        self.feature_prun = 0.1\n",
        "\n",
        "    def fit(self, X, y, random_feature = False):\n",
        "        self.n_classes_ = len(set(y))\n",
        "        self.n_features_ = X.shape[1]\n",
        "        self.tree_ = self._grow_tree(X, y, random_feature)\n",
        "\n",
        "    def predict(self, X):\n",
        "        return [self._predict(inputs) for inputs in X]\n",
        "    \n",
        "    def _best_split(self, X, y,random_feature):\n",
        "        m = y.size\n",
        "        if m <= 1:\n",
        "            return None, None\n",
        "        num_parent = [np.sum(y == c) for c in range(self.n_classes_)]\n",
        "        best_gini = 1.0 - sum((n / m) ** 2 for n in num_parent)\n",
        "        best_idx, best_thr = None, None\n",
        "        for idx in range(self.n_features_):\n",
        "            if(np.random.randint(0, 11) <= self.feature_prun*10):\n",
        "                continue\n",
        "            thresholds, classes = zip(*sorted(zip(X[:, idx], y)))\n",
        "            num_left = [0] * self.n_classes_\n",
        "            num_right = num_parent.copy()\n",
        "            for i in range(1, m):\n",
        "                c = classes[i - 1]\n",
        "                num_left[c] += 1\n",
        "                num_right[c] -= 1\n",
        "                gini_left = 1.0 - sum(\n",
        "                    (num_left[x] / i) ** 2 for x in range(self.n_classes_)\n",
        "                )\n",
        "                gini_right = 1.0 - sum(\n",
        "                    (num_right[x] / (m - i)) ** 2 for x in range(self.n_classes_)\n",
        "                )\n",
        "                gini = (i * gini_left + (m - i) * gini_right) / m\n",
        "                if thresholds[i] == thresholds[i - 1]:\n",
        "                    continue\n",
        "                if gini < best_gini:\n",
        "                    best_gini = gini\n",
        "                    best_idx = idx\n",
        "                    best_thr = (thresholds[i] + thresholds[i - 1]) / 2\n",
        "        return best_idx, best_thr\n",
        "\n",
        "    def _grow_tree(self, X, y,random_feature, depth=0):\n",
        "        num_samples_per_class = [np.sum(y == i) for i in range(self.n_classes_)]\n",
        "        predicted_class = np.argmax(num_samples_per_class)\n",
        "        node = Node(predicted_class=predicted_class)\n",
        "        if depth < self.max_depth:\n",
        "            idx, thr = self._best_split(X, y,random_feature)\n",
        "            if idx is not None:\n",
        "                indices_left = X[:, idx] < thr\n",
        "                X_left, y_left = X[indices_left], y[indices_left]\n",
        "                X_right, y_right = X[~indices_left], y[~indices_left]\n",
        "                node.feature_index = idx\n",
        "                node.threshold = thr\n",
        "                node.left = self._grow_tree(X_left, y_left,random_feature, depth + 1)\n",
        "                node.right = self._grow_tree(X_right, y_right,random_feature, depth + 1)\n",
        "        return node\n",
        "\n",
        "    def _predict(self, inputs):\n",
        "        node = self.tree_\n",
        "        while node.left:\n",
        "            if inputs[node.feature_index] < node.threshold:\n",
        "                node = node.left\n",
        "            else:\n",
        "                node = node.right\n",
        "        return node.predicted_class"
      ],
      "execution_count": 76,
      "outputs": []
    },
    {
      "cell_type": "markdown",
      "metadata": {
        "id": "S_Kea5rJVKvo",
        "colab_type": "text"
      },
      "source": [
        "#### Реализация из scikit-learn"
      ]
    },
    {
      "cell_type": "code",
      "metadata": {
        "id": "49XOZEphVVL5",
        "colab_type": "code",
        "colab": {}
      },
      "source": [
        "dec_tree = tree.DecisionTreeClassifier()\n",
        "dec_tree = dec_tree.fit(x_train, y_train)"
      ],
      "execution_count": 77,
      "outputs": []
    },
    {
      "cell_type": "markdown",
      "metadata": {
        "id": "GpxpZs54XR3t",
        "colab_type": "text"
      },
      "source": [
        "#### Результаты работы"
      ]
    },
    {
      "cell_type": "markdown",
      "metadata": {
        "id": "QsAkUBYmXUhi",
        "colab_type": "text"
      },
      "source": [
        "Реализация:"
      ]
    },
    {
      "cell_type": "code",
      "metadata": {
        "id": "j3ipAOfnXWh8",
        "colab_type": "code",
        "colab": {
          "base_uri": "https://localhost:8080/",
          "height": 51
        },
        "outputId": "46424bba-78a3-481d-ddf4-7986b056e4f2"
      },
      "source": [
        "dec_tree2 = DecisionTreeClassifier(max_depth=10)\n",
        "dec_tree2.fit(x_train, y_train)\n",
        "print(\"train precision: \" + str(precision_score(y_train, dec_tree2.predict(x_train), average='weighted')))\n",
        "print(\"test precision: \" + str(precision_score(y_test, dec_tree2.predict(x_test), average='weighted')))"
      ],
      "execution_count": 78,
      "outputs": [
        {
          "output_type": "stream",
          "text": [
            "train precision: 0.9907467532467532\n",
            "test precision: 0.8152725563909776\n"
          ],
          "name": "stdout"
        }
      ]
    },
    {
      "cell_type": "markdown",
      "metadata": {
        "id": "AZu4XOhIYJdc",
        "colab_type": "text"
      },
      "source": [
        "Реализация из scikit-learn:"
      ]
    },
    {
      "cell_type": "code",
      "metadata": {
        "id": "HVS03ZhVYNZN",
        "colab_type": "code",
        "colab": {
          "base_uri": "https://localhost:8080/",
          "height": 51
        },
        "outputId": "a354c623-2ae3-4e18-fc21-8a0f88ac9ad6"
      },
      "source": [
        "print(\"train precision: \" + str(precision_score(y_train, dec_tree.predict(x_train), average='weighted')))\n",
        "print(\"test precision: \" + str(precision_score(y_test, dec_tree.predict(x_test), average='weighted')))"
      ],
      "execution_count": 79,
      "outputs": [
        {
          "output_type": "stream",
          "text": [
            "train precision: 0.9968886462882096\n",
            "test precision: 0.8152725563909776\n"
          ],
          "name": "stdout"
        }
      ]
    },
    {
      "cell_type": "markdown",
      "metadata": {
        "id": "8RHaLCMSYjh1",
        "colab_type": "text"
      },
      "source": [
        "Обе реализации отработали хорошо."
      ]
    },
    {
      "cell_type": "markdown",
      "metadata": {
        "id": "5g6uYZELYn_c",
        "colab_type": "text"
      },
      "source": [
        "### Random forest"
      ]
    },
    {
      "cell_type": "markdown",
      "metadata": {
        "id": "5-NB-H48Ys7h",
        "colab_type": "text"
      },
      "source": [
        "RF (random forest) — это множество решающих деревьев. В задаче регрессии их ответы усредняются, в задаче классификации принимается решение голосованием по большинству. Все деревья строятся независимо по следующей схеме:\n",
        "\n",
        "* Выбирается подвыборка обучающей выборки размера samplesize (м.б. с возвращением) – по ней строится дерево (для каждого дерева — своя подвыборка).\n",
        "\n",
        "* Для построения каждого расщепления в дереве просматриваем max_features случайных признаков (для каждого нового расщепления — свои случайные признаки).\n",
        "\n",
        "* Выбираем наилучшие признак и расщепление по нему (по заранее заданному критерию). Дерево строится, как правило, до исчерпания выборки (пока в листьях не останутся представители только одного класса), но в современных реализациях есть параметры, которые ограничивают высоту дерева, число объектов в листьях и число объектов в подвыборке, при котором проводится расщепление."
      ]
    },
    {
      "cell_type": "markdown",
      "metadata": {
        "id": "5hzo_jG-Za1L",
        "colab_type": "text"
      },
      "source": [
        "#### Реализация"
      ]
    },
    {
      "cell_type": "code",
      "metadata": {
        "id": "GsNefpbUZdaX",
        "colab_type": "code",
        "colab": {}
      },
      "source": [
        "def RandomForest(size, Max_depth):\n",
        "    head = [None] * size\n",
        "    for i in range(size):\n",
        "        head[i] = DecisionTreeClassifier(max_depth=Max_depth)\n",
        "    return head\n",
        "def fit(forest, X_train, y_train):\n",
        "    for i in range(len(forest)):\n",
        "        subset = np.zeros(X_train.shape)\n",
        "        labels = np.zeros(y_train.shape).astype(int)\n",
        "        for j in range(X_train.shape[0]):\n",
        "            index = np.random.randint(0, X_train.shape[0])\n",
        "            subset[j] = X_train[index]\n",
        "            labels[j] = y_train[index]\n",
        "        forest[i].fit(X_train, y_train,random_feature = True)\n",
        "def predict(forest, X):\n",
        "    Q = np.zeros([X.shape[0], 2])\n",
        "    for i in range(len(forest)):\n",
        "        pred = forest[i].predict(X)\n",
        "        for j in range(len(pred)):\n",
        "            Q[j, pred[j]] += 1\n",
        "    pred = np.zeros([X.shape[0]])\n",
        "    for i in range(X.shape[0]):\n",
        "        pred[i] = np.argmax(Q[i,:])\n",
        "    return pred"
      ],
      "execution_count": 80,
      "outputs": []
    },
    {
      "cell_type": "markdown",
      "metadata": {
        "id": "hmB2Z3PZZg_p",
        "colab_type": "text"
      },
      "source": [
        "#### Реализация из scikit-learn:"
      ]
    },
    {
      "cell_type": "code",
      "metadata": {
        "id": "9e73IN5-Zpax",
        "colab_type": "code",
        "colab": {
          "base_uri": "https://localhost:8080/",
          "height": 153
        },
        "outputId": "48a68a55-b8e9-4861-e227-c01ff423dad5"
      },
      "source": [
        "rf = RandomForestClassifier(max_depth=4)\n",
        "rf.fit(x_train, y_train)"
      ],
      "execution_count": 81,
      "outputs": [
        {
          "output_type": "execute_result",
          "data": {
            "text/plain": [
              "RandomForestClassifier(bootstrap=True, ccp_alpha=0.0, class_weight=None,\n",
              "                       criterion='gini', max_depth=4, max_features='auto',\n",
              "                       max_leaf_nodes=None, max_samples=None,\n",
              "                       min_impurity_decrease=0.0, min_impurity_split=None,\n",
              "                       min_samples_leaf=1, min_samples_split=2,\n",
              "                       min_weight_fraction_leaf=0.0, n_estimators=100,\n",
              "                       n_jobs=None, oob_score=False, random_state=None,\n",
              "                       verbose=0, warm_start=False)"
            ]
          },
          "metadata": {
            "tags": []
          },
          "execution_count": 81
        }
      ]
    },
    {
      "cell_type": "markdown",
      "metadata": {
        "id": "2MSJ-C7_Z-0M",
        "colab_type": "text"
      },
      "source": [
        "#### Результаты работы"
      ]
    },
    {
      "cell_type": "markdown",
      "metadata": {
        "id": "lQuPSeibaB2z",
        "colab_type": "text"
      },
      "source": [
        "Реализация:"
      ]
    },
    {
      "cell_type": "code",
      "metadata": {
        "id": "MvZhzxn6aDut",
        "colab_type": "code",
        "colab": {
          "base_uri": "https://localhost:8080/",
          "height": 51
        },
        "outputId": "f238436c-3f58-48f1-800d-b49c25b2ad8b"
      },
      "source": [
        "rf2 = RandomForest(10, 4)\n",
        "fit(rf2, x_train, y_train)\n",
        "print(\"train precision: \" + str(precision_score(y_train, predict(rf2,x_train), average='weighted')))\n",
        "print(\"test precision: \" + str(precision_score(y_test, predict(rf2,x_test), average='weighted')))"
      ],
      "execution_count": 82,
      "outputs": [
        {
          "output_type": "stream",
          "text": [
            "train precision: 0.9274624530663329\n",
            "test precision: 0.8764204545454545\n"
          ],
          "name": "stdout"
        }
      ]
    },
    {
      "cell_type": "markdown",
      "metadata": {
        "id": "MkgD0rzrau2E",
        "colab_type": "text"
      },
      "source": [
        "Реализация из scikit-learn:"
      ]
    },
    {
      "cell_type": "code",
      "metadata": {
        "id": "b8BseLn_aypw",
        "colab_type": "code",
        "colab": {
          "base_uri": "https://localhost:8080/",
          "height": 51
        },
        "outputId": "80e0763b-f7c2-4063-ac87-4dedde816742"
      },
      "source": [
        "print(\"train precision: \" + str(precision_score(y_train, rf.predict(x_train), average='weighted')))\n",
        "print(\"test precision: \" + str(precision_score(y_test, rf.predict(x_test), average='weighted')))"
      ],
      "execution_count": 83,
      "outputs": [
        {
          "output_type": "stream",
          "text": [
            "train precision: 0.9328480828598273\n",
            "test precision: 0.9466911764705882\n"
          ],
          "name": "stdout"
        }
      ]
    },
    {
      "cell_type": "markdown",
      "metadata": {
        "id": "UgFRaWloa8NR",
        "colab_type": "text"
      },
      "source": [
        "Модель из scikit-learn показала лучший результат, чем моя реализация. Также, на тестовой выборке, метод RF отработал лучше, чем дерево решений."
      ]
    },
    {
      "cell_type": "markdown",
      "metadata": {
        "id": "ILYwp_albY00",
        "colab_type": "text"
      },
      "source": [
        "### Вывод"
      ]
    },
    {
      "cell_type": "markdown",
      "metadata": {
        "id": "tez84fR3ba11",
        "colab_type": "text"
      },
      "source": [
        "В данной лабораторной работе мы реализовали несколько базовых алгоритмов машинного обучения и сравнили их точность с алгоритмами, реализованными в библиотеке scikit-learn. Однако, во всех случаях модель переобучилась. Это может быть связано с маленьким коливеством признаков или образцов из датасета."
      ]
    }
  ]
}